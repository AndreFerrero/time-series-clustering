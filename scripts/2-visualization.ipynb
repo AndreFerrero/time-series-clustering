{
 "cells": [
  {
   "cell_type": "code",
   "execution_count": null,
   "metadata": {},
   "outputs": [],
   "source": [
    "%%capture\n",
    "%run 1-setup.ipynb"
   ]
  },
  {
   "cell_type": "code",
   "execution_count": null,
   "metadata": {},
   "outputs": [],
   "source": [
    "def pre_plots(groups, group_name: str):\n",
    "    # Create an empty list to store modified dataframes\n",
    "    dfs = []\n",
    "\n",
    "    # Iterate through the dictionary values and groups labels\n",
    "    for df, group in zip(datasets, groups):\n",
    "        \n",
    "        # Add a 'group' column\n",
    "        df[group_name] = group\n",
    "        \n",
    "        # Append the modified dataframe to the list\n",
    "        dfs.append(df)\n",
    "    \n",
    "    # Concatenate all dataframes in the list along the rows\n",
    "    full_df = pd.concat(dfs, ignore_index=True)\n",
    "    full_df\n",
    "    \n",
    "    return full_df"
   ]
  },
  {
   "cell_type": "code",
   "execution_count": null,
   "metadata": {},
   "outputs": [],
   "source": [
    "def plots(subfolder: str, vars, group: str, full_df):\n",
    "    # subfolder should be a string indicating the name of the subfolder in the figures_folder\n",
    "    # vars should be the list containing the variable names, therefore either pollutants, mets, numerics\n",
    "    # group should be the variable we want to group by (eg: province, clusters,...)\n",
    "    # to group we need to have created the full dataframe before with the specific group variable\n",
    "    \n",
    "    sns.set(style=\"whitegrid\")\n",
    "\n",
    "    figures_folder = R'C:\\Users\\andre\\OneDrive - Alma Mater Studiorum Università di Bologna\\University\\UniBo\\Machine Learning\\PR2.20\\figures'\n",
    "    output_folder = os.path.join(figures_folder, subfolder)\n",
    "    os.makedirs(output_folder, exist_ok=True)\n",
    "\n",
    "    for var in vars:\n",
    "        \n",
    "        # Plot the time series for each province\n",
    "        plt.figure(figsize=(12, 6))\n",
    "        sns.lineplot(x='date', y=var, hue=full_df[group], data=full_df)\n",
    "\n",
    "        plt.title(f'Meteorological Information Over Time by {group}')\n",
    "        plt.xlabel('Date')\n",
    "        plt.ylabel(var)\n",
    "        plt.xticks(rotation=45)  # Rotate x-axis labels for better readability\n",
    "        \n",
    "        save_path = os.path.join(output_folder, f'{var}.png')\n",
    "        plt.savefig(save_path, bbox_inches='tight')\n",
    "        \n",
    "        plt.show()"
   ]
  },
  {
   "cell_type": "code",
   "execution_count": null,
   "metadata": {},
   "outputs": [],
   "source": [
    "full_df = pre_plots(provinces, 'province')"
   ]
  },
  {
   "cell_type": "code",
   "execution_count": null,
   "metadata": {},
   "outputs": [],
   "source": [
    "full_df"
   ]
  },
  {
   "cell_type": "code",
   "execution_count": null,
   "metadata": {},
   "outputs": [],
   "source": [
    "plots('smooth_series', numerics, 'province', full_df)"
   ]
  },
  {
   "cell_type": "code",
   "execution_count": null,
   "metadata": {},
   "outputs": [],
   "source": []
  }
 ],
 "metadata": {
  "kernelspec": {
   "display_name": "Python 3",
   "language": "python",
   "name": "python3"
  },
  "language_info": {
   "codemirror_mode": {
    "name": "ipython",
    "version": 3
   },
   "file_extension": ".py",
   "mimetype": "text/x-python",
   "name": "python",
   "nbconvert_exporter": "python",
   "pygments_lexer": "ipython3",
   "version": "3.11.6"
  }
 },
 "nbformat": 4,
 "nbformat_minor": 2
}
