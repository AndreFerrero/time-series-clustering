{
 "cells": [
  {
   "cell_type": "code",
   "execution_count": 33,
   "metadata": {},
   "outputs": [],
   "source": [
    "%run setup.py"
   ]
  },
  {
   "cell_type": "code",
   "execution_count": 35,
   "metadata": {},
   "outputs": [
    {
     "data": {
      "text/html": [
       "<div>\n",
       "<style scoped>\n",
       "    .dataframe tbody tr th:only-of-type {\n",
       "        vertical-align: middle;\n",
       "    }\n",
       "\n",
       "    .dataframe tbody tr th {\n",
       "        vertical-align: top;\n",
       "    }\n",
       "\n",
       "    .dataframe thead th {\n",
       "        text-align: right;\n",
       "    }\n",
       "</style>\n",
       "<table border=\"1\" class=\"dataframe\">\n",
       "  <thead>\n",
       "    <tr style=\"text-align: right;\">\n",
       "      <th></th>\n",
       "      <th>date</th>\n",
       "      <th>TG</th>\n",
       "      <th>TN</th>\n",
       "      <th>TX</th>\n",
       "      <th>HU</th>\n",
       "      <th>PP</th>\n",
       "      <th>QQ</th>\n",
       "      <th>RR</th>\n",
       "      <th>CO</th>\n",
       "      <th>NH3</th>\n",
       "      <th>NMVOC</th>\n",
       "      <th>NO2</th>\n",
       "      <th>NO</th>\n",
       "      <th>O3</th>\n",
       "      <th>PANS</th>\n",
       "      <th>PM10</th>\n",
       "      <th>PM2.5</th>\n",
       "      <th>SO2</th>\n",
       "    </tr>\n",
       "  </thead>\n",
       "  <tbody>\n",
       "    <tr>\n",
       "      <th>1154</th>\n",
       "      <td>2020-02-29</td>\n",
       "      <td>6.63</td>\n",
       "      <td>2.46</td>\n",
       "      <td>10.37</td>\n",
       "      <td>40.41</td>\n",
       "      <td>1016.39</td>\n",
       "      <td>114.34</td>\n",
       "      <td>0.0</td>\n",
       "      <td>&lt;NA&gt;</td>\n",
       "      <td>&lt;NA&gt;</td>\n",
       "      <td>&lt;NA&gt;</td>\n",
       "      <td>&lt;NA&gt;</td>\n",
       "      <td>&lt;NA&gt;</td>\n",
       "      <td>&lt;NA&gt;</td>\n",
       "      <td>&lt;NA&gt;</td>\n",
       "      <td>&lt;NA&gt;</td>\n",
       "      <td>&lt;NA&gt;</td>\n",
       "      <td>&lt;NA&gt;</td>\n",
       "    </tr>\n",
       "  </tbody>\n",
       "</table>\n",
       "</div>"
      ],
      "text/plain": [
       "           date    TG    TN     TX     HU       PP      QQ   RR    CO   NH3  \\\n",
       "1154 2020-02-29  6.63  2.46  10.37  40.41  1016.39  114.34  0.0  <NA>  <NA>   \n",
       "\n",
       "      NMVOC   NO2    NO    O3  PANS  PM10  PM2.5   SO2  \n",
       "1154   <NA>  <NA>  <NA>  <NA>  <NA>  <NA>   <NA>  <NA>  "
      ]
     },
     "execution_count": 35,
     "metadata": {},
     "output_type": "execute_result"
    }
   ],
   "source": [
    "dataframes['bologna'][dataframes['bologna'].isnull().any(axis=1)]"
   ]
  },
  {
   "cell_type": "code",
   "execution_count": 36,
   "metadata": {},
   "outputs": [],
   "source": [
    "def impute_median(data):\n",
    "    from sklearn.impute import SimpleImputer\n",
    "\n",
    "    imputer = SimpleImputer(strategy='median')\n",
    "\n",
    "    for province, df in data_prov_pairs:\n",
    "        df[numerics] = imputer.fit_transform(df[numerics])\n",
    "        \n",
    "        dataframes[province] = df\n",
    "    \n",
    "    return dataframes"
   ]
  },
  {
   "cell_type": "code",
   "execution_count": 37,
   "metadata": {},
   "outputs": [],
   "source": [
    "dataframes = impute_median(dataframes)"
   ]
  },
  {
   "cell_type": "code",
   "execution_count": 38,
   "metadata": {},
   "outputs": [],
   "source": [
    "from scipy.signal import savgol_filter\n",
    "\n",
    "def smooth(window, window_pp, poly_pp, poly = 2):\n",
    "        \n",
    "    for province, df in data_prov_pairs:\n",
    "        \n",
    "        for column in df[numerics].columns:\n",
    "            # Extract numerical values from the DataFrame\n",
    "            values = df[column].values\n",
    "            \n",
    "            # Apply Savitzky-Golay filter to the numerical values\n",
    "            # for PP we need higher smooting due to outliers\n",
    "            if column == 'PP':\n",
    "                window = window_pp\n",
    "                poly = poly_pp\n",
    "                \n",
    "            smoothed_values = savgol_filter(values, window, poly)\n",
    "            # Update the DataFrame with the smoothed values\n",
    "            df[column] = smoothed_values\n",
    "            \n",
    "        dataframes[province] = df\n",
    "\n",
    "smooth(window = 10, window_pp = 25, poly_pp = 5)\n"
   ]
  },
  {
   "cell_type": "code",
   "execution_count": null,
   "metadata": {},
   "outputs": [],
   "source": [
    "def concat_group(groups, group_name: str):\n",
    "    # Create an empty list to store modified dataframes\n",
    "    dfs = []\n",
    "\n",
    "    # Iterate through the dictionary values and groups labels\n",
    "    for df, group in zip(datasets, groups):\n",
    "        \n",
    "        # Add a 'group' column\n",
    "        df[group_name] = group\n",
    "        \n",
    "        # Append the modified dataframe to the list\n",
    "        dfs.append(df)\n",
    "    \n",
    "    # Concatenate all dataframes in the list along the rows\n",
    "    full_df = pd.concat(dfs, ignore_index=True)\n",
    "    full_df\n",
    "    \n",
    "    return full_df"
   ]
  },
  {
   "cell_type": "code",
   "execution_count": null,
   "metadata": {},
   "outputs": [],
   "source": [
    "def plot_group(subfolder: str, vars, group: str, full_df):\n",
    "    # subfolder should be a string indicating the name of the subfolder in the figures_folder\n",
    "    # vars should be the list containing the variable names, therefore either pollutants, mets, numerics\n",
    "    # group should be the variable we want to group by (eg: province, clusters,...)\n",
    "    # to group we need to have created the full dataframe before with the specific group variable\n",
    "    \n",
    "    sns.set(style=\"whitegrid\")\n",
    "    figures = R'figures'\n",
    "    figures_folder = os.path.join(path, figures)\n",
    "    output_folder = os.path.join(figures_folder, subfolder)\n",
    "    os.makedirs(output_folder, exist_ok=True)\n",
    "\n",
    "    for var in vars:\n",
    "        \n",
    "        # Plot the time series for each province\n",
    "        plt.figure(figsize=(12, 6))\n",
    "        sns.lineplot(x='date', y=var, hue=full_df[group], data=full_df)\n",
    "\n",
    "        plt.title(f'Meteorological Information Over Time by {group}')\n",
    "        plt.xlabel('Date')\n",
    "        plt.ylabel(var)\n",
    "        plt.xticks(rotation=45)  # Rotate x-axis labels for better readability\n",
    "        \n",
    "        save_path = os.path.join(output_folder, f'{var}.png')\n",
    "        plt.savefig(save_path, bbox_inches='tight')\n",
    "        \n",
    "        plt.show()"
   ]
  },
  {
   "cell_type": "code",
   "execution_count": null,
   "metadata": {},
   "outputs": [],
   "source": [
    "full_df = concat_group(provinces, 'province')"
   ]
  },
  {
   "cell_type": "code",
   "execution_count": null,
   "metadata": {},
   "outputs": [],
   "source": [
    "plot_group('smooth_series', numerics, 'province', full_df)"
   ]
  },
  {
   "cell_type": "code",
   "execution_count": 41,
   "metadata": {},
   "outputs": [],
   "source": [
    "from tslearn.clustering import TimeSeriesKMeans, silhouette_score\n",
    "from sklearn.preprocessing import MinMaxScaler"
   ]
  },
  {
   "cell_type": "code",
   "execution_count": 42,
   "metadata": {},
   "outputs": [],
   "source": [
    "# let's normalize the numerical features of the dataframe\n",
    "for df in datasets:\n",
    "    df[numerics] = MinMaxScaler().fit_transform(df[numerics])"
   ]
  },
  {
   "cell_type": "code",
   "execution_count": 43,
   "metadata": {},
   "outputs": [],
   "source": [
    "# Prepare input data\n",
    "X = []\n",
    "\n",
    "for province in provinces:\n",
    "    group_data = dataframes[province][pollutants].values\n",
    "    \n",
    "    # Reshape to (n_samples, n_timestamps, n_features)\n",
    "    group_data = np.expand_dims(group_data, axis=0)\n",
    "    X.append(group_data)\n",
    "\n",
    "# Stack the list of arrays to create a 3D array\n",
    "X = np.vstack(X)"
   ]
  },
  {
   "cell_type": "code",
   "execution_count": 63,
   "metadata": {},
   "outputs": [],
   "source": [
    "inertia = []\n",
    "silhouette = []\n",
    "K = list(range(2, 9))\n",
    "\n",
    "for k in K:\n",
    "    km = TimeSeriesKMeans(n_clusters=k, n_init=5, metric='dtw', random_state=0)\n",
    "    \n",
    "    labels = km.fit_predict(X)\n",
    "    \n",
    "    silhouette_avg = silhouette_score(X, labels, metric='dtw')\n",
    "    \n",
    "    inertia.append(km.inertia_)\n",
    "    silhouette.append(silhouette_avg)"
   ]
  },
  {
   "cell_type": "code",
   "execution_count": null,
   "metadata": {},
   "outputs": [],
   "source": [
    "# Plotting inertia vs slihouette\n",
    "plt.figure(figsize=(10, 5))\n",
    "plt.subplot(1, 2, 1)\n",
    "plt.plot(K, inertia, marker='o')\n",
    "plt.title('Inertia vs. Number of Clusters')\n",
    "plt.xlabel('Number of Clusters')\n",
    "plt.ylabel('Inertia')\n",
    "\n",
    "plt.subplot(1, 2, 2)\n",
    "plt.plot(K, silhouette, marker='o')\n",
    "plt.title('Silhouette Score vs. Number of Clusters')\n",
    "plt.xlabel('Number of Clusters')\n",
    "plt.ylabel('Silhouette Score')\n",
    "\n",
    "plt.tight_layout()\n",
    "plt.savefig(os.path.join(path, R'figures'))\n",
    "plt.show()"
   ]
  },
  {
   "cell_type": "code",
   "execution_count": 44,
   "metadata": {},
   "outputs": [],
   "source": [
    "km4 = TimeSeriesKMeans(n_clusters=4, n_init=5, metric='dtw', random_state=0)\n",
    "\n",
    "clusters = km4.fit_predict(X)"
   ]
  },
  {
   "cell_type": "code",
   "execution_count": 61,
   "metadata": {},
   "outputs": [],
   "source": [
    "# Specify the results folder\n",
    "results = R\"results\"\n",
    "results_folder = os.path.join(path, results)"
   ]
  },
  {
   "cell_type": "code",
   "execution_count": 59,
   "metadata": {},
   "outputs": [],
   "source": [
    "def table_clusters(provinces = provinces, clusters = clusters):\n",
    "\n",
    "    # Create a DataFrame\n",
    "    cluster_df = pd.DataFrame(list(zip(provinces, clusters)), columns=['Province', 'Cluster'])\n",
    "    \n",
    "    # Create a figure and axis\n",
    "    fig, ax = plt.subplots(figsize=(5, 5))\n",
    "\n",
    "    # Hide the axes\n",
    "    ax.axis('off')\n",
    "\n",
    "    # Create a table and add it to the axis\n",
    "    table = ax.table(cellText=cluster_df.values, colLabels=cluster_df.columns,\n",
    "                    cellLoc='center', loc='center', edges = 'open')\n",
    "\n",
    "    # Make column labels bold\n",
    "    for (i, j), cell in table.get_celld().items():\n",
    "        if i == 0:\n",
    "            cell.set_text_props(fontweight='bold')\n",
    "\n",
    "    # Adjust column width\n",
    "    table.auto_set_column_width([0, 1])\n",
    "\n",
    "    # Adjust the position of the table within the figure\n",
    "    table.set_fontsize(13)  # Adjust font size\n",
    "    table.scale(1, 2)  # Scale the table\n",
    "\n",
    "    ax.set_title(f'Clustering provinces', fontsize=18, y=0.95)  # Add a title\n",
    "\n",
    "    save_file = os.path.join(results_folder, 'cluster_provinces.png')\n",
    "    # Save the figure as a PNG image in the specified folder\n",
    "    fig.savefig(save_file, bbox_inches='tight', pad_inches=0.5, dpi=300)"
   ]
  },
  {
   "cell_type": "code",
   "execution_count": 60,
   "metadata": {},
   "outputs": [
    {
     "data": {
      "image/png": "[encoded data removed]",
      "text/plain": [
       "<Figure size 500x500 with 1 Axes>"
      ]
     },
     "metadata": {},
     "output_type": "display_data"
    }
   ],
   "source": [
    "table_clusters()"
   ]
  },
  {
   "cell_type": "code",
   "execution_count": null,
   "metadata": {},
   "outputs": [],
   "source": []
  }
 ],
 "metadata": {
  "kernelspec": {
   "display_name": "Python 3",
   "language": "python",
   "name": "python3"
  },
  "language_info": {
   "codemirror_mode": {
    "name": "ipython",
    "version": 3
   },
   "file_extension": ".py",
   "mimetype": "text/x-python",
   "name": "python",
   "nbconvert_exporter": "python",
   "pygments_lexer": "ipython3",
   "version": "3.11.6"
  }
 },
 "nbformat": 4,
 "nbformat_minor": 2
}
